{
  "cells": [
    {
      "cell_type": "code",
      "source": [
        "from string import ascii_uppercase\n",
        "\n",
        "alfabeto = list(ascii_uppercase)\n",
        "\n",
        "def codifica(mensagem, chave):\n",
        "    cifra = \"\"\n",
        "    for letra in mensagem:\n",
        "        indice = ord(letra)-65\n",
        "        cifra+= alfabeto[(indice+chave) %len(alfabeto)] if letra in alfabeto else letra\n",
        "    return cifra\n",
        "\n",
        "def descodifica(mensagem, chave):\n",
        "    mensagem.upper()\n",
        "    return codifica(mensagem, len(alfabeto)-chave)\n",
        "\n",
        "\n",
        "\n"
      ],
      "metadata": {
        "id": "PcPXYEaCjdUx"
      },
      "execution_count": null,
      "outputs": []
    },
    {
      "cell_type": "code",
      "source": [
        "mensagem = str(input('digite mensagem a ser criptografada: '))\n",
        "\n",
        "\n",
        "def arquivos():\n",
        "  with open('arquivo1.txt', 'w') as arquivo:\n",
        "    print(mensagem.upper(), file=arquivo)\n",
        "\n",
        "  leitura = open(\"arquivo1.txt\")\n",
        "  ler = leitura.read()\n",
        "\n",
        "  with open('arquivo2.txt', 'w') as arquivo:\n",
        "    print(codifica(ler,4), file=arquivo)\n",
        "\n",
        "arquivos()"
      ],
      "metadata": {
        "id": "CR4mkIUMjqzT",
        "colab": {
          "base_uri": "https://localhost:8080/"
        },
        "outputId": "03ad7a08-76b0-47d8-a303-f9133b3d1a95"
      },
      "execution_count": null,
      "outputs": [
        {
          "name": "stdout",
          "output_type": "stream",
          "text": [
            "digite mensagem a ser criptografada: programar é arte\n"
          ]
        }
      ]
    },
    {
      "cell_type": "code",
      "source": [
        "dados=open(\"arquivo2.txt\")\n",
        "new_dados=dados.read().upper()\n",
        "\n",
        "descodifica(new_dados,4)\n",
        "\n",
        "\n"
      ],
      "metadata": {
        "id": "pq6Xb3xfSNNs",
        "colab": {
          "base_uri": "https://localhost:8080/",
          "height": 35
        },
        "outputId": "e7337b22-d1e4-4406-9606-2da9ada38ccb"
      },
      "execution_count": null,
      "outputs": [
        {
          "output_type": "execute_result",
          "data": {
            "text/plain": [
              "'PROGRAMAR É ARTE\\n\\n'"
            ],
            "application/vnd.google.colaboratory.intrinsic+json": {
              "type": "string"
            }
          },
          "metadata": {},
          "execution_count": 6
        }
      ]
    }
  ],
  "metadata": {
    "colab": {
      "provenance": []
    },
    "kernelspec": {
      "display_name": "Python 3",
      "name": "python3"
    },
    "language_info": {
      "name": "python"
    }
  },
  "nbformat": 4,
  "nbformat_minor": 0
}